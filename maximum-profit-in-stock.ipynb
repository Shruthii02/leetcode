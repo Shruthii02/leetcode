{
 "cells": [
  {
   "cell_type": "markdown",
   "id": "7d2d6ee2",
   "metadata": {},
   "source": [
    "You are given an array prices where prices[i] is the price of a given stock on the ith day.\n",
    "You want to maximize your profit by choosing a single day to buy one stock and choosing a different day in the future to sell that stock.\n",
    "Return the maximum profit you can achieve from this transaction. If you cannot achieve any profit, return 0.\n",
    "eg:Input: prices = [7,1,5,3,6,4]\n",
    "Output: 5"
   ]
  },
  {
   "cell_type": "code",
   "execution_count": 6,
   "id": "296b795b",
   "metadata": {},
   "outputs": [
    {
     "name": "stdout",
     "output_type": "stream",
     "text": [
      "enter the array: 7,6,4,3,1\n",
      "0\n"
     ]
    }
   ],
   "source": [
    "price = input(\"enter the array: \")\n",
    "prices = [int(item) for item in price.split(\",\")]\n",
    "def stockprofit(price):\n",
    "    first_price = price[0]\n",
    "    profit = 0\n",
    "    for i in range(1,len(price)):\n",
    "        if(price[i]<first_price):\n",
    "            first_price = price[i]\n",
    "        else:\n",
    "            profit = max(profit, price[i] - first_price)\n",
    "    return profit\n",
    "print(stockprofit(prices))"
   ]
  },
  {
   "cell_type": "code",
   "execution_count": null,
   "id": "5a9a7c85",
   "metadata": {},
   "outputs": [],
   "source": []
  },
  {
   "cell_type": "code",
   "execution_count": null,
   "id": "047b3fc5",
   "metadata": {},
   "outputs": [],
   "source": []
  }
 ],
 "metadata": {
  "kernelspec": {
   "display_name": "Python 3 (ipykernel)",
   "language": "python",
   "name": "python3"
  },
  "language_info": {
   "codemirror_mode": {
    "name": "ipython",
    "version": 3
   },
   "file_extension": ".py",
   "mimetype": "text/x-python",
   "name": "python",
   "nbconvert_exporter": "python",
   "pygments_lexer": "ipython3",
   "version": "3.9.12"
  }
 },
 "nbformat": 4,
 "nbformat_minor": 5
}
