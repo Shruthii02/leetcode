{
 "cells": [
  {
   "cell_type": "markdown",
   "id": "474e5dee",
   "metadata": {},
   "source": [
    "Given an array nums of size n, return the majority element.\n",
    "The majority element is the element that appears more than ⌊n / 2⌋ times. You may assume that the majority element always exists in the array.\n",
    "eg 1:\n",
    "Input: nums = [3,2,3]\n",
    "Output: 3\n",
    "eg 2:\n",
    "Input: nums = [2,2,1,1,1,2,2]\n",
    "Output: 2"
   ]
  },
  {
   "cell_type": "code",
   "execution_count": 2,
   "id": "16534692",
   "metadata": {},
   "outputs": [
    {
     "name": "stdout",
     "output_type": "stream",
     "text": [
      "enter the array: 2,2,1,1,1,2,2\n",
      "Majority element  2\n"
     ]
    }
   ],
   "source": [
    "nums = input(\"enter the array: \")\n",
    "def majorityelement(nums):\n",
    "    first = nums[0]\n",
    "    count = 1\n",
    "    for i in nums[1:]:\n",
    "        count += (1 if first == i else -1)\n",
    "        if ~ count:\n",
    "            first = i\n",
    "            count = 1\n",
    "    return (first)  \n",
    "print(\"Majority element \",majorityelement(nums))"
   ]
  },
  {
   "cell_type": "code",
   "execution_count": null,
   "id": "7c82d1fd",
   "metadata": {},
   "outputs": [],
   "source": []
  }
 ],
 "metadata": {
  "kernelspec": {
   "display_name": "Python 3 (ipykernel)",
   "language": "python",
   "name": "python3"
  },
  "language_info": {
   "codemirror_mode": {
    "name": "ipython",
    "version": 3
   },
   "file_extension": ".py",
   "mimetype": "text/x-python",
   "name": "python",
   "nbconvert_exporter": "python",
   "pygments_lexer": "ipython3",
   "version": "3.9.12"
  }
 },
 "nbformat": 4,
 "nbformat_minor": 5
}
